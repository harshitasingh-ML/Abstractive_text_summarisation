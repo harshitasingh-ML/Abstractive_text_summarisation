{
  "nbformat": 4,
  "nbformat_minor": 0,
  "metadata": {
    "colab": {
      "name": "Abstractive_Text_summary.ipynb",
      "provenance": []
    },
    "kernelspec": {
      "name": "python3",
      "display_name": "Python 3"
    },
    "accelerator": "GPU"
  },
  "cells": [
    {
      "cell_type": "markdown",
      "metadata": {
        "id": "zL9xqkv8q6e4"
      },
      "source": [
        "# Asbtractive Text Summarization:"
      ]
    },
    {
      "cell_type": "markdown",
      "metadata": {
        "id": "gWNU6ArPq6Y7"
      },
      "source": [
        "## News Summary Data from inshorts"
      ]
    },
    {
      "cell_type": "code",
      "metadata": {
        "id": "RRDOV1Hr3BoM"
      },
      "source": [
        "#!pip install chart_studio"
      ],
      "execution_count": 5,
      "outputs": []
    },
    {
      "cell_type": "code",
      "metadata": {
        "id": "VCB9cqoRtNNX"
      },
      "source": [
        "#!gdown https://drive.google.com/uc?id=1apcfE6-zkIQfXJbJNx2cLQVzpfSXOH7m"
      ],
      "execution_count": 6,
      "outputs": []
    },
    {
      "cell_type": "code",
      "metadata": {
        "id": "fU2zU7bM5K6K"
      },
      "source": [
        "#!gdown https://drive.google.com/uc?id=1gyjAv5UiY5KeJAEsjhm6g5wUZkaRVFbl"
      ],
      "execution_count": 7,
      "outputs": []
    },
    {
      "cell_type": "code",
      "metadata": {
        "id": "JzwqA2qX5Ku4"
      },
      "source": [
        "#!gdown https://drive.google.com/uc?id=1QGZ8_P0TwqgFNE8SvxnMoIUNIiI-z6ci"
      ],
      "execution_count": 8,
      "outputs": []
    },
    {
      "cell_type": "code",
      "metadata": {
        "id": "lKBYdYedqfVG",
        "colab": {
          "base_uri": "https://localhost:8080/"
        },
        "outputId": "88cef7a5-802c-40c4-e244-e0c312417699"
      },
      "source": [
        "import gc\n",
        "import numpy as np # linear algebra\n",
        "import pandas as pd # data processing, CSV file I/O (e.g. pd.read_csv)\n",
        "\n",
        "from nltk.tokenize import word_tokenize\n",
        "import re\n",
        "import collections\n",
        "import pickle\n",
        "import numpy as np\n",
        "from gensim.models.keyedvectors import KeyedVectors\n",
        "from gensim.test.utils import get_tmpfile\n",
        "from gensim.scripts.glove2word2vec import glove2word2vec\n",
        "\n",
        "\n",
        "import os\n",
        "import chart_studio.plotly.plotly as py\n",
        "import plotly.graph_objs as go\n",
        "import matplotlib.pyplot as plt\n",
        "import seaborn as sns\n",
        "\n",
        "from sklearn.feature_extraction import stop_words\n",
        "import re\n",
        "import string\n",
        "import numpy as np # linear algebra\n",
        "import pandas as pd # data processing, CSV file I/O (e.g. pd.read_csv)\n",
        "import os, sys, tarfile\n",
        "from sklearn.model_selection import train_test_split\n",
        "\n",
        "from IPython.display import Image\n",
        "\n",
        "import tensorflow as tf\n",
        "from tensorflow.keras.preprocessing.text import Tokenizer\n",
        "from tensorflow.keras.preprocessing.sequence import pad_sequences\n",
        "from tensorflow.keras import Input\n",
        "from tensorflow.keras.layers import Embedding, LSTM, Dense, TimeDistributed, Layer\n",
        "from tensorflow.keras import Model\n",
        "from tensorflow.keras.utils import plot_model\n",
        "from tensorflow.keras.optimizers import Adam\n",
        "from tensorflow.keras.models import load_model\n",
        "from tensorflow.keras.callbacks import ReduceLROnPlateau\n"
      ],
      "execution_count": 3,
      "outputs": [
        {
          "output_type": "stream",
          "text": [
            "/usr/local/lib/python3.6/dist-packages/sklearn/utils/deprecation.py:144: FutureWarning:\n",
            "\n",
            "The sklearn.feature_extraction.stop_words module is  deprecated in version 0.22 and will be removed in version 0.24. The corresponding classes / functions should instead be imported from sklearn.feature_extraction.text. Anything that cannot be imported from sklearn.feature_extraction.text is now part of the private API.\n",
            "\n"
          ],
          "name": "stderr"
        }
      ]
    },
    {
      "cell_type": "code",
      "metadata": {
        "id": "N1AiJo-37mO6"
      },
      "source": [
        "pd.set_option('display.max_info_columns',1000)\n",
        "pd.set_option('display.max_colwidth',5000)"
      ],
      "execution_count": 4,
      "outputs": []
    },
    {
      "cell_type": "code",
      "metadata": {
        "colab": {
          "base_uri": "https://localhost:8080/",
          "height": 380
        },
        "id": "HSrc2r7hUlh_",
        "outputId": "44d221a3-9552-4331-a7b8-9e4860736e5e"
      },
      "source": [
        "news1 = pd.read_csv('/content/news_summary.csv', encoding='latin-1', usecols=['headlines', 'text'])\n",
        "news2 = pd.read_csv('/content/news_summary_more.csv', encoding='latin-1')\n",
        "news_summary = pd.concat([news1, news2], axis=0).reset_index(drop=True)\n",
        "news_summary.head()       "
      ],
      "execution_count": 5,
      "outputs": [
        {
          "output_type": "execute_result",
          "data": {
            "text/html": [
              "<div>\n",
              "<style scoped>\n",
              "    .dataframe tbody tr th:only-of-type {\n",
              "        vertical-align: middle;\n",
              "    }\n",
              "\n",
              "    .dataframe tbody tr th {\n",
              "        vertical-align: top;\n",
              "    }\n",
              "\n",
              "    .dataframe thead th {\n",
              "        text-align: right;\n",
              "    }\n",
              "</style>\n",
              "<table border=\"1\" class=\"dataframe\">\n",
              "  <thead>\n",
              "    <tr style=\"text-align: right;\">\n",
              "      <th></th>\n",
              "      <th>headlines</th>\n",
              "      <th>text</th>\n",
              "    </tr>\n",
              "  </thead>\n",
              "  <tbody>\n",
              "    <tr>\n",
              "      <th>0</th>\n",
              "      <td>Daman &amp; Diu revokes mandatory Rakshabandhan in offices order</td>\n",
              "      <td>The Administration of Union Territory Daman and Diu has revoked its order that made it compulsory for women to tie rakhis to their male colleagues on the occasion of Rakshabandhan on August 7. The administration was forced to withdraw the decision within 24 hours of issuing the circular after it received flak from employees and was slammed on social media.</td>\n",
              "    </tr>\n",
              "    <tr>\n",
              "      <th>1</th>\n",
              "      <td>Malaika slams user who trolled her for 'divorcing rich man'</td>\n",
              "      <td>Malaika Arora slammed an Instagram user who trolled her for \"divorcing a rich man\" and \"having fun with the alimony\". \"Her life now is all about wearing short clothes, going to gym or salon, enjoying vacation[s],\" the user commented. Malaika responded, \"You certainly got to get your damn facts right before spewing sh*t on me...when you know nothing about me.\"</td>\n",
              "    </tr>\n",
              "    <tr>\n",
              "      <th>2</th>\n",
              "      <td>'Virgin' now corrected to 'Unmarried' in IGIMS' form</td>\n",
              "      <td>The Indira Gandhi Institute of Medical Sciences (IGIMS) in Patna on Thursday made corrections in its Marital Declaration Form by changing 'Virgin' option to 'Unmarried'. Earlier, Bihar Health Minister defined virgin as being an unmarried woman and did not consider the term objectionable. The institute, however, faced strong backlash for asking new recruits to declare their virginity in the form.</td>\n",
              "    </tr>\n",
              "    <tr>\n",
              "      <th>3</th>\n",
              "      <td>Aaj aapne pakad liya: LeT man Dujana before being killed</td>\n",
              "      <td>Lashkar-e-Taiba's Kashmir commander Abu Dujana, who was killed by security forces, said \"Kabhi hum aage, kabhi aap, aaj aapne pakad liya, mubarak ho aapko (Today you caught me. Congratulations)\" after being caught. He added that he won't surrender, and whatever is in his fate will happen to him. \"Hum nikley they shaheed hone (had left home for martyrdom),\" he added.</td>\n",
              "    </tr>\n",
              "    <tr>\n",
              "      <th>4</th>\n",
              "      <td>Hotel staff to get training to spot signs of sex trafficking</td>\n",
              "      <td>Hotels in Maharashtra will train their staff to spot signs of sex trafficking, including frequent requests for bed linen changes and 'Do not disturb' signs left on room doors for days. A mobile phone app called Rescue Me, which will allow staff to alert police of suspicious behaviour, will be developed. The initiative has been backed by the Maharashtra government.</td>\n",
              "    </tr>\n",
              "  </tbody>\n",
              "</table>\n",
              "</div>"
            ],
            "text/plain": [
              "                                                      headlines                                                                                                                                                                                                                                                                                                                                                                                                            text\n",
              "0  Daman & Diu revokes mandatory Rakshabandhan in offices order                                          The Administration of Union Territory Daman and Diu has revoked its order that made it compulsory for women to tie rakhis to their male colleagues on the occasion of Rakshabandhan on August 7. The administration was forced to withdraw the decision within 24 hours of issuing the circular after it received flak from employees and was slammed on social media.\n",
              "1  Malaika slams user who trolled her for 'divorcing rich man'                                        Malaika Arora slammed an Instagram user who trolled her for \"divorcing a rich man\" and \"having fun with the alimony\". \"Her life now is all about wearing short clothes, going to gym or salon, enjoying vacation[s],\" the user commented. Malaika responded, \"You certainly got to get your damn facts right before spewing sh*t on me...when you know nothing about me.\"\n",
              "2          'Virgin' now corrected to 'Unmarried' in IGIMS' form  The Indira Gandhi Institute of Medical Sciences (IGIMS) in Patna on Thursday made corrections in its Marital Declaration Form by changing 'Virgin' option to 'Unmarried'. Earlier, Bihar Health Minister defined virgin as being an unmarried woman and did not consider the term objectionable. The institute, however, faced strong backlash for asking new recruits to declare their virginity in the form.\n",
              "3      Aaj aapne pakad liya: LeT man Dujana before being killed                                Lashkar-e-Taiba's Kashmir commander Abu Dujana, who was killed by security forces, said \"Kabhi hum aage, kabhi aap, aaj aapne pakad liya, mubarak ho aapko (Today you caught me. Congratulations)\" after being caught. He added that he won't surrender, and whatever is in his fate will happen to him. \"Hum nikley they shaheed hone (had left home for martyrdom),\" he added.\n",
              "4  Hotel staff to get training to spot signs of sex trafficking                                  Hotels in Maharashtra will train their staff to spot signs of sex trafficking, including frequent requests for bed linen changes and 'Do not disturb' signs left on room doors for days. A mobile phone app called Rescue Me, which will allow staff to alert police of suspicious behaviour, will be developed. The initiative has been backed by the Maharashtra government."
            ]
          },
          "metadata": {
            "tags": []
          },
          "execution_count": 5
        }
      ]
    },
    {
      "cell_type": "code",
      "metadata": {
        "colab": {
          "base_uri": "https://localhost:8080/"
        },
        "id": "RipuwyhEYyIe",
        "outputId": "a3f8f6f9-16b0-4688-a3bf-e1b05618420c"
      },
      "source": [
        "news_summary.shape"
      ],
      "execution_count": 6,
      "outputs": [
        {
          "output_type": "execute_result",
          "data": {
            "text/plain": [
              "(102915, 2)"
            ]
          },
          "metadata": {
            "tags": []
          },
          "execution_count": 6
        }
      ]
    },
    {
      "cell_type": "markdown",
      "metadata": {
        "id": "SeYa6zG878pI"
      },
      "source": [
        "## Text Preprocessing:"
      ]
    },
    {
      "cell_type": "code",
      "metadata": {
        "id": "nRgTDYJNUlVX"
      },
      "source": [
        "def preprocess(text):\n",
        "    \"\"\"Preprocess the given text.\"\"\"\n",
        "    \n",
        "    # Encode to ascii\n",
        "    #text = ''.join(c for c in unicodedata.normalize('NFD', text) if unicodedata.category(c) != 'Mn')\n",
        "    \n",
        "    # To lowercase\n",
        "    text = text.lower()\n",
        "\n",
        "    text = re.sub(\"(\\\\t)\", ' ', text)  #remove escape charecters\n",
        "    text = re.sub(\"(\\\\r)\", ' ', text)\n",
        "    text = re.sub(\"(\\\\n)\", ' ', text)\n",
        "    text = re.sub(\"(__+)\", ' ', text)   #remove _ if it occors more than one time consecutively\n",
        "    text = re.sub(\"(--+)\", ' ', text)   #remove - if it occors more than one time consecutively\n",
        "    text = re.sub(\"(~~+)\", ' ', text)   #remove ~ if it occors more than one time consecutively\n",
        "    text = re.sub(\"(\\+\\++)\", ' ', text)   #remove + if it occors more than one time consecutively\n",
        "    text = re.sub(\"(\\.\\.+)\", ' ', text)   #remove . if it occors more than one time consecutively\n",
        "    text = re.sub(r\"[<>()|&©ø\\[\\]\\'\\\",;?~*!]\", ' ', text) #remove <>()|&©ø\"',;?~*!\n",
        "    text = re.sub(\"(mailto:)\", ' ', text)  #remove mailto:\n",
        "    text = re.sub(r\"(\\\\x9\\d)\", ' ', text)  #remove \\x9* in text\n",
        "    text = re.sub(\"([iI][nN][cC]\\d+)\", 'INC_NUM', text)  #replace INC nums to INC_NUM\n",
        "    text = re.sub(\"([cC][mM]\\d+)|([cC][hH][gG]\\d+)\", 'CM_NUM', text)  #replace CM# and CHG# to CM_NUM\n",
        "    text = re.sub(\"(\\.\\s+)\", ' ', text)  #remove full stop at end of words(not between)\n",
        "    text = re.sub(\"(\\-\\s+)\", ' ', text)  #remove - at end of words(not between)\n",
        "    text = re.sub(\"(\\:\\s+)\", ' ', text)  #remove : at end of words(not between)\n",
        "    text = re.sub(\"(\\s+.\\s+)\", ' ', text)  #remove any single charecters hanging between 2 spaces\n",
        "\n",
        "    #Replace any url as such https://abc.xyz.net/browse/sdf-5327 ====> abc.xyz.net\n",
        "    try:\n",
        "        url = re.search(r'(https*:\\/*)([^\\/\\s]+)(.[^\\s]+)', text)\n",
        "        repl_url = url.group(2)\n",
        "        text = re.sub(r'(https*:\\/*)([^\\/\\s]+)(.[^\\s]+)',repl_url, text)\n",
        "    except:\n",
        "        pass #there might be emails with no url in them\n",
        "\n",
        "    text = re.sub(\"(\\s+)\",' ',text) #remove multiple spaces\n",
        "    text = re.sub(\"(\\s+.\\s+)\", ' ', text) #remove any single charecters hanging between 2 spaces\n",
        "    return text\n"
      ],
      "execution_count": 7,
      "outputs": []
    },
    {
      "cell_type": "code",
      "metadata": {
        "colab": {
          "base_uri": "https://localhost:8080/",
          "height": 110
        },
        "id": "GJ1mXITecdvB",
        "outputId": "7b05f060-e36f-48fb-ebdf-5932b238d8ca"
      },
      "source": [
        "news_summary['headlines'] = news_summary['headlines'].apply(preprocess)\n",
        "news_summary['text'] = news_summary['text'].apply(preprocess)\n",
        "news_summary.head(1)"
      ],
      "execution_count": 8,
      "outputs": [
        {
          "output_type": "execute_result",
          "data": {
            "text/html": [
              "<div>\n",
              "<style scoped>\n",
              "    .dataframe tbody tr th:only-of-type {\n",
              "        vertical-align: middle;\n",
              "    }\n",
              "\n",
              "    .dataframe tbody tr th {\n",
              "        vertical-align: top;\n",
              "    }\n",
              "\n",
              "    .dataframe thead th {\n",
              "        text-align: right;\n",
              "    }\n",
              "</style>\n",
              "<table border=\"1\" class=\"dataframe\">\n",
              "  <thead>\n",
              "    <tr style=\"text-align: right;\">\n",
              "      <th></th>\n",
              "      <th>headlines</th>\n",
              "      <th>text</th>\n",
              "    </tr>\n",
              "  </thead>\n",
              "  <tbody>\n",
              "    <tr>\n",
              "      <th>0</th>\n",
              "      <td>daman diu revokes mandatory rakshabandhan in offices order</td>\n",
              "      <td>the administration of union territory daman and diu has revoked its order that made it compulsory for women to tie rakhis to their male colleagues on the occasion of rakshabandhan on august the administration was forced to withdraw the decision within 24 hours of issuing the circular after it received flak from employees and was slammed on social media.</td>\n",
              "    </tr>\n",
              "  </tbody>\n",
              "</table>\n",
              "</div>"
            ],
            "text/plain": [
              "                                                    headlines                                                                                                                                                                                                                                                                                                                                                                 text\n",
              "0  daman diu revokes mandatory rakshabandhan in offices order  the administration of union territory daman and diu has revoked its order that made it compulsory for women to tie rakhis to their male colleagues on the occasion of rakshabandhan on august the administration was forced to withdraw the decision within 24 hours of issuing the circular after it received flak from employees and was slammed on social media."
            ]
          },
          "metadata": {
            "tags": []
          },
          "execution_count": 8
        }
      ]
    },
    {
      "cell_type": "code",
      "metadata": {
        "colab": {
          "base_uri": "https://localhost:8080/",
          "height": 404
        },
        "id": "xwuoJeSEcdrr",
        "outputId": "3aeff1d9-a17a-4665-fbf3-573d0c58343d"
      },
      "source": [
        "text_len = news_summary['text'].str.split().apply(len)\n",
        "headline_len = news_summary['headlines'].str.split().apply(len)\n",
        "\n",
        "plt.figure(figsize=(12, 6))\n",
        "\n",
        "plt.subplot(1, 2, 1)\n",
        "sns.histplot(headline_len)\n",
        "plt.title('Headlines length distribution')\n",
        "\n",
        "plt.subplot(1, 2, 2)\n",
        "sns.histplot(text_len)\n",
        "plt.title('Text length distribution')\n",
        "\n",
        "plt.show()\n"
      ],
      "execution_count": 9,
      "outputs": [
        {
          "output_type": "display_data",
          "data": {
            "image/png": "[encoded data removed]",
            "text/plain": [
              "<Figure size 864x432 with 2 Axes>"
            ]
          },
          "metadata": {
            "tags": [],
            "needs_background": "light"
          }
        }
      ]
    },
    {
      "cell_type": "code",
      "metadata": {
        "colab": {
          "base_uri": "https://localhost:8080/"
        },
        "id": "HUFtbWBQcdpN",
        "outputId": "fb50eeb8-6f3f-4cc0-da82-46b4078ebba5"
      },
      "source": [
        "text_len.mean(),headline_len.mean()"
      ],
      "execution_count": 10,
      "outputs": [
        {
          "output_type": "execute_result",
          "data": {
            "text/plain": [
              "(56.92494777243356, 9.438177136471845)"
            ]
          },
          "metadata": {
            "tags": []
          },
          "execution_count": 10
        }
      ]
    },
    {
      "cell_type": "code",
      "metadata": {
        "colab": {
          "base_uri": "https://localhost:8080/"
        },
        "id": "TcQ_o_T9hf-g",
        "outputId": "16a15cdd-1fca-4b7d-d9c3-10734ee1ea39"
      },
      "source": [
        "print(f\"Headlines having length in range [0, 15]: {len(headline_len[headline_len <= 15])/len(headline_len)}\")\n",
        "\n",
        "# Check how much % of text have 0-62 words\n",
        "print(f\"Text having length in range [0, 62]: {len(text_len[text_len <= 63])/len(text_len)}\")\n"
      ],
      "execution_count": 11,
      "outputs": [
        {
          "output_type": "stream",
          "text": [
            "Headlines having length in range [0, 15]: 0.9999805664869067\n",
            "Text having length in range [0, 62]: 0.9992906767720935\n"
          ],
          "name": "stdout"
        }
      ]
    },
    {
      "cell_type": "code",
      "metadata": {
        "id": "XkO01kA3hSjS"
      },
      "source": [
        "MAX_TEXT_SEQ_LEN = 63   # 63 covers 99.99% of the data\n",
        "MAX_HEADLINE_SEQ_LEN = 15  # 15 covers 99.99% of the data\n"
      ],
      "execution_count": 12,
      "outputs": []
    },
    {
      "cell_type": "code",
      "metadata": {
        "id": "AxMkRqqDlDem"
      },
      "source": [
        "START_TOKEN = '<start> '\n",
        "END_TOKEN = ' <end>'\n"
      ],
      "execution_count": 13,
      "outputs": []
    },
    {
      "cell_type": "code",
      "metadata": {
        "colab": {
          "base_uri": "https://localhost:8080/",
          "height": 190
        },
        "id": "IpKWJqM-hSf6",
        "outputId": "04aa5c6b-f1a2-4c7d-c683-b035d09ea5a6"
      },
      "source": [
        "news_summary['headlines_input'] = START_TOKEN + news_summary['headlines']\n",
        "news_summary['headlines_output'] = news_summary['headlines'] + END_TOKEN\n",
        "news_summary = news_summary.drop(['headlines'], axis=1)\n",
        "news_summary.head(2)\n"
      ],
      "execution_count": 14,
      "outputs": [
        {
          "output_type": "execute_result",
          "data": {
            "text/html": [
              "<div>\n",
              "<style scoped>\n",
              "    .dataframe tbody tr th:only-of-type {\n",
              "        vertical-align: middle;\n",
              "    }\n",
              "\n",
              "    .dataframe tbody tr th {\n",
              "        vertical-align: top;\n",
              "    }\n",
              "\n",
              "    .dataframe thead th {\n",
              "        text-align: right;\n",
              "    }\n",
              "</style>\n",
              "<table border=\"1\" class=\"dataframe\">\n",
              "  <thead>\n",
              "    <tr style=\"text-align: right;\">\n",
              "      <th></th>\n",
              "      <th>text</th>\n",
              "      <th>headlines_input</th>\n",
              "      <th>headlines_output</th>\n",
              "    </tr>\n",
              "  </thead>\n",
              "  <tbody>\n",
              "    <tr>\n",
              "      <th>0</th>\n",
              "      <td>the administration of union territory daman and diu has revoked its order that made it compulsory for women to tie rakhis to their male colleagues on the occasion of rakshabandhan on august the administration was forced to withdraw the decision within 24 hours of issuing the circular after it received flak from employees and was slammed on social media.</td>\n",
              "      <td>&lt;start&gt; daman diu revokes mandatory rakshabandhan in offices order</td>\n",
              "      <td>daman diu revokes mandatory rakshabandhan in offices order &lt;end&gt;</td>\n",
              "    </tr>\n",
              "    <tr>\n",
              "      <th>1</th>\n",
              "      <td>malaika arora slammed an instagram user who trolled her for divorcing rich man and having fun with the alimony her life now is all about wearing short clothes going to gym or salon enjoying vacation the user commented malaika responded you certainly got to get your damn facts right before spewing sh on me when you know nothing about me</td>\n",
              "      <td>&lt;start&gt; malaika slams user who trolled her for divorcing rich man</td>\n",
              "      <td>malaika slams user who trolled her for divorcing rich man  &lt;end&gt;</td>\n",
              "    </tr>\n",
              "  </tbody>\n",
              "</table>\n",
              "</div>"
            ],
            "text/plain": [
              "                                                                                                                                                                                                                                                                                                                                                                  text  ...                                                  headlines_output\n",
              "0  the administration of union territory daman and diu has revoked its order that made it compulsory for women to tie rakhis to their male colleagues on the occasion of rakshabandhan on august the administration was forced to withdraw the decision within 24 hours of issuing the circular after it received flak from employees and was slammed on social media.  ...  daman diu revokes mandatory rakshabandhan in offices order <end>\n",
              "1                   malaika arora slammed an instagram user who trolled her for divorcing rich man and having fun with the alimony her life now is all about wearing short clothes going to gym or salon enjoying vacation the user commented malaika responded you certainly got to get your damn facts right before spewing sh on me when you know nothing about me   ...  malaika slams user who trolled her for divorcing rich man  <end>\n",
              "\n",
              "[2 rows x 3 columns]"
            ]
          },
          "metadata": {
            "tags": []
          },
          "execution_count": 14
        }
      ]
    },
    {
      "cell_type": "code",
      "metadata": {
        "colab": {
          "base_uri": "https://localhost:8080/"
        },
        "id": "1uIgtYkOhSc-",
        "outputId": "a311c6ca-afd5-41b6-e773-d7014727ee98"
      },
      "source": [
        "X_train, X_test = train_test_split(news_summary, test_size=0.1)\n",
        "\n",
        "X_train = X_train.reset_index(drop=True)\n",
        "X_test = X_test.reset_index(drop=True)\n",
        "\n",
        "print(X_train.shape)\n",
        "print(X_test.shape)\n"
      ],
      "execution_count": 15,
      "outputs": [
        {
          "output_type": "stream",
          "text": [
            "(92623, 3)\n",
            "(10292, 3)\n"
          ],
          "name": "stdout"
        }
      ]
    },
    {
      "cell_type": "code",
      "metadata": {
        "id": "NRpWQqeKhSbL"
      },
      "source": [
        "# !\"#$%&()*+,-./:;<=>?@[\\\\]^_`{|}~\\t\\n\n",
        "\n",
        "def data_preparation(X_train, X_test):\n",
        "    \"\"\"Tokenize and pad the given text.\"\"\"\n",
        "    \n",
        "    # Fit tokenizers\n",
        "    text_tokenizer = Tokenizer()\n",
        "    text_tokenizer.fit_on_texts(X_train['text'])\n",
        "\n",
        "    headline_tokenizer = Tokenizer()\n",
        "    headline_tokenizer.fit_on_texts(X_train['headlines_input'])\n",
        "    \n",
        "    # Pad sequences\n",
        "    text_train = pad_sequences(text_tokenizer.texts_to_sequences(X_train['text']), maxlen=MAX_TEXT_SEQ_LEN, padding='post', truncating='post')\n",
        "    text_test = pad_sequences(text_tokenizer.texts_to_sequences(X_test['text']), maxlen=MAX_TEXT_SEQ_LEN, padding='post', truncating='post')\n",
        "\n",
        "    headline_train_input = pad_sequences(headline_tokenizer.texts_to_sequences(X_train['headlines_input']), maxlen=MAX_HEADLINE_SEQ_LEN, padding='post', truncating='post')\n",
        "    headline_train_output = pad_sequences(headline_tokenizer.texts_to_sequences(X_train['headlines_output']), maxlen=MAX_HEADLINE_SEQ_LEN, padding='post', truncating='post')\n",
        "    headline_test_input = pad_sequences(headline_tokenizer.texts_to_sequences(X_test['headlines_input']), maxlen=MAX_HEADLINE_SEQ_LEN, padding='post', truncating='post')\n",
        "    headline_test_output = pad_sequences(headline_tokenizer.texts_to_sequences(X_test['headlines_output']), maxlen=MAX_HEADLINE_SEQ_LEN, padding='post', truncating='post')\n",
        "\n",
        "    return {\n",
        "        'text_tokenizer': text_tokenizer,\n",
        "        'headline_tokenizer': headline_tokenizer,\n",
        "        'text_train': text_train,\n",
        "        'text_test': text_test,\n",
        "        'headline_train_input': headline_train_input,\n",
        "        'headline_train_output': headline_train_output,\n",
        "        'headline_test_input': headline_test_input,\n",
        "        'headline_test_output': headline_test_output\n",
        "    }\n"
      ],
      "execution_count": 16,
      "outputs": []
    },
    {
      "cell_type": "code",
      "metadata": {
        "id": "OIDVcxwphSYm"
      },
      "source": [
        "preprep_data = data_preparation(X_train, X_test)\n"
      ],
      "execution_count": 17,
      "outputs": []
    },
    {
      "cell_type": "code",
      "metadata": {
        "colab": {
          "base_uri": "https://localhost:8080/"
        },
        "id": "O47NQbfUpd6e",
        "outputId": "62c8c85d-d3cf-450d-b5cc-c6fa8666dd35"
      },
      "source": [
        "text_vocab_size = len(preprep_data['text_tokenizer'].word_index) + 1\n",
        "headline_vocab_size = len(preprep_data['headline_tokenizer'].word_index) + 1\n",
        "\n",
        "print('Text vocab size:{} ,Headline vocab size: {}'.format(text_vocab_size,headline_vocab_size))\n"
      ],
      "execution_count": 18,
      "outputs": [
        {
          "output_type": "stream",
          "text": [
            "Text vocab size:79897 ,Headline vocab size: 34672\n"
          ],
          "name": "stdout"
        }
      ]
    },
    {
      "cell_type": "code",
      "metadata": {
        "colab": {
          "base_uri": "https://localhost:8080/"
        },
        "id": "N0CUoZN87l9-",
        "outputId": "e53b7ff4-8595-44b8-9f77-3911522aa1ed"
      },
      "source": [
        "EM_DIM = 100\n",
        "embeddings_index = dict()\n",
        "f = open('/content/glove.6B.100d.txt')\n",
        "for line in f:\n",
        "    values = line.split()\n",
        "    word = values[0]\n",
        "    coefs = np.asarray(values[1: ], dtype='float32')\n",
        "    embeddings_index[word] = coefs\n",
        "f.close()\n",
        "\n",
        "print(f'Found {len(embeddings_index)} word vectors.')\n",
        "\n",
        "headline_embedding_matrix = np.zeros((headline_vocab_size, EM_DIM))\n",
        "for word, i in preprep_data['headline_tokenizer'].word_index.items():\n",
        "    embedding_vector = embeddings_index.get(word)\n",
        "    if embedding_vector is not None:\n",
        "        headline_embedding_matrix[i] = embedding_vector\n",
        "\n",
        "text_embedding_matrix = np.zeros((text_vocab_size, EM_DIM))\n",
        "for word, i in preprep_data['text_tokenizer'].word_index.items():\n",
        "    embedding_vector = embeddings_index.get(word)\n",
        "    if embedding_vector is not None:\n",
        "        text_embedding_matrix[i] = embedding_vector\n",
        "\n",
        "\n",
        "print('Shape of headline embedding matrix:{},Shape of text embedding matrix:{}'. format(headline_embedding_matrix.shape,text_embedding_matrix.shape))\n"
      ],
      "execution_count": 19,
      "outputs": [
        {
          "output_type": "stream",
          "text": [
            "Found 400000 word vectors.\n",
            "Shape of headline embedding matrix:(34672, 100),Shape of text embedding matrix:(79897, 100)\n"
          ],
          "name": "stdout"
        }
      ]
    },
    {
      "cell_type": "markdown",
      "metadata": {
        "id": "c-d0Dn37vP5X"
      },
      "source": [
        "## Model Building:"
      ]
    },
    {
      "cell_type": "code",
      "metadata": {
        "id": "vIQVg8dIpMBk"
      },
      "source": [
        "class Encoder(Layer):\n",
        "    def __init__(self, name):\n",
        "        super().__init__(name=name)\n",
        "        \n",
        "        self.embedding = Embedding(input_dim=text_vocab_size, output_dim=EM_DIM, weights=[text_embedding_matrix], input_length=MAX_TEXT_SEQ_LEN, trainable=False, name='encoder_embedding')\n",
        "        # Store encoder hidden state and cell state for decoder input. Hidden state is the output of last timestamp,\n",
        "        # which represents the entire input sequence using a single vector.\n",
        "        self.lstm = LSTM(units=128, return_sequences=True, return_state=True, name='encoder_lstm')\n",
        "\n",
        "    def call(self, x):\n",
        "        x = self.embedding(x)\n",
        "        self.lstm_output, self.lstm_hidden, self.lstm_cell = self.lstm(x)\n",
        "        return self.lstm_output, self.lstm_hidden, self.lstm_cell\n",
        "    \n",
        "    def get_states(self):\n",
        "        return self.lstm_hidden, self.lstm_cell\n",
        "\n",
        "class Decoder(Layer):\n",
        "    def __init__(self, name):\n",
        "        super().__init__(name=name)\n",
        "        \n",
        "        self.embedding = Embedding(input_dim=headline_vocab_size, output_dim=EM_DIM, trainable=False, weights=[headline_embedding_matrix], input_length=None, name='decoder_embedding')\n",
        "        self.lstm = LSTM(units=128, return_sequences=True, return_state=True, name='decoder_lstm')\n",
        "    \n",
        "    \n",
        "    def call(self, x, lstm_hidden, lstm_cell):\n",
        "        x = self.embedding(x)\n",
        "        lstm_output, lstm_hidden, lstm_cell = self.lstm(x, initial_state=[lstm_hidden, lstm_cell])\n",
        "        return lstm_output, lstm_hidden, lstm_cell\n",
        "\n",
        "class EncoderDecoder(Model): \n",
        "    def __init__(self):\n",
        "        super().__init__()\n",
        "        self.encoder = Encoder(name='encoder')\n",
        "        self.decoder = Decoder(name='decoder')\n",
        "        self.decoder_dense = TimeDistributed(Dense(units=headline_vocab_size, activation='softmax'), name='decoder_dense')\n",
        "    \n",
        "    \n",
        "    def call(self, x):\n",
        "        text, summary = x\n",
        "        _, hidden_state, cell_state = self.encoder(text)\n",
        "        out, hidden_state, cell_state = self.decoder(summary, hidden_state, cell_state)\n",
        "        return self.decoder_dense(out)\n"
      ],
      "execution_count": 29,
      "outputs": []
    },
    {
      "cell_type": "code",
      "metadata": {
        "id": "nYHyrQeEpL_K"
      },
      "source": [
        "model_1 = EncoderDecoder()\n",
        "opt = tf.keras.optimizers.RMSprop(learning_rate=0.002)\n",
        "#opt = Adam(learning_rate=0.1)\n",
        "model_1.compile(optimizer=opt, loss='sparse_categorical_crossentropy')\n"
      ],
      "execution_count": 30,
      "outputs": []
    },
    {
      "cell_type": "code",
      "metadata": {
        "id": "V93uoOzl-DXa"
      },
      "source": [
        "tf.keras.backend.clear_session() "
      ],
      "execution_count": 31,
      "outputs": []
    },
    {
      "cell_type": "code",
      "metadata": {
        "colab": {
          "base_uri": "https://localhost:8080/"
        },
        "id": "b6Jvq1JZpL80",
        "outputId": "44dbb26e-ac9c-41f0-e0cd-1c1d929df0af"
      },
      "source": [
        "reduce_lr = ReduceLROnPlateau(\n",
        "    monitor='val_loss',\n",
        "    factor=0.2,\n",
        "    patience=3,\n",
        "    verbose=1\n",
        ")\n",
        "\n",
        "# Train the model\n",
        "history = model_1.fit(\n",
        "    [preprep_data['text_train'], preprep_data['headline_train_input']],\n",
        "    preprep_data['headline_train_output'],\n",
        "    batch_size=500,\n",
        "    epochs=90,\n",
        "    validation_data=([preprep_data['text_test'], preprep_data['headline_test_input']], preprep_data['headline_test_output']),callbacks=[reduce_lr])\n"
      ],
      "execution_count": 32,
      "outputs": [
        {
          "output_type": "stream",
          "text": [
            "Epoch 1/90\n",
            "186/186 [==============================] - 59s 319ms/step - loss: 5.5691 - val_loss: 4.9990\n",
            "Epoch 2/90\n",
            "186/186 [==============================] - 59s 315ms/step - loss: 4.8741 - val_loss: 4.5400\n",
            "Epoch 3/90\n",
            "186/186 [==============================] - 59s 315ms/step - loss: 4.4664 - val_loss: 4.2610\n",
            "Epoch 4/90\n",
            "186/186 [==============================] - 59s 315ms/step - loss: 4.2025 - val_loss: 4.0786\n",
            "Epoch 5/90\n",
            "186/186 [==============================] - 59s 315ms/step - loss: 4.0063 - val_loss: 3.9498\n",
            "Epoch 6/90\n",
            "186/186 [==============================] - 59s 315ms/step - loss: 3.8504 - val_loss: 3.8294\n",
            "Epoch 7/90\n",
            "186/186 [==============================] - 59s 315ms/step - loss: 3.7237 - val_loss: 3.7631\n",
            "Epoch 8/90\n",
            "186/186 [==============================] - 59s 315ms/step - loss: 3.6175 - val_loss: 3.6904\n",
            "Epoch 9/90\n",
            "186/186 [==============================] - 59s 315ms/step - loss: 3.5274 - val_loss: 3.6355\n",
            "Epoch 10/90\n",
            "186/186 [==============================] - 59s 315ms/step - loss: 3.4521 - val_loss: 3.5941\n",
            "Epoch 11/90\n",
            "186/186 [==============================] - 59s 315ms/step - loss: 3.3858 - val_loss: 3.5534\n",
            "Epoch 12/90\n",
            "186/186 [==============================] - 59s 315ms/step - loss: 3.3274 - val_loss: 3.5184\n",
            "Epoch 13/90\n",
            "186/186 [==============================] - 59s 315ms/step - loss: 3.2744 - val_loss: 3.5164\n",
            "Epoch 14/90\n",
            "186/186 [==============================] - 59s 315ms/step - loss: 3.2294 - val_loss: 3.4857\n",
            "Epoch 15/90\n",
            "186/186 [==============================] - 59s 315ms/step - loss: 3.1874 - val_loss: 3.4558\n",
            "Epoch 16/90\n",
            "186/186 [==============================] - 59s 315ms/step - loss: 3.1506 - val_loss: 3.4481\n",
            "Epoch 17/90\n",
            "186/186 [==============================] - 59s 315ms/step - loss: 3.1181 - val_loss: 3.4434\n",
            "Epoch 18/90\n",
            "186/186 [==============================] - 59s 315ms/step - loss: 3.0892 - val_loss: 3.4254\n",
            "Epoch 19/90\n",
            "186/186 [==============================] - 59s 316ms/step - loss: 3.0612 - val_loss: 3.4213\n",
            "Epoch 20/90\n",
            "186/186 [==============================] - 59s 316ms/step - loss: 3.0363 - val_loss: 3.4182\n",
            "Epoch 21/90\n",
            "186/186 [==============================] - 59s 316ms/step - loss: 3.0137 - val_loss: 3.4024\n",
            "Epoch 22/90\n",
            "186/186 [==============================] - 59s 316ms/step - loss: 2.9919 - val_loss: 3.4000\n",
            "Epoch 23/90\n",
            "186/186 [==============================] - 59s 316ms/step - loss: 2.9715 - val_loss: 3.3992\n",
            "Epoch 24/90\n",
            "186/186 [==============================] - 59s 316ms/step - loss: 2.9526 - val_loss: 3.3963\n",
            "Epoch 25/90\n",
            "186/186 [==============================] - 59s 316ms/step - loss: 2.9346 - val_loss: 3.3953\n",
            "Epoch 26/90\n",
            "186/186 [==============================] - 59s 316ms/step - loss: 2.9172 - val_loss: 3.3894\n",
            "Epoch 27/90\n",
            "186/186 [==============================] - 59s 316ms/step - loss: 2.9001 - val_loss: 3.3897\n",
            "Epoch 28/90\n",
            "186/186 [==============================] - 59s 316ms/step - loss: 2.8839 - val_loss: 3.3861\n",
            "Epoch 29/90\n",
            "186/186 [==============================] - 59s 316ms/step - loss: 2.8690 - val_loss: 3.3840\n",
            "Epoch 30/90\n",
            "186/186 [==============================] - 59s 318ms/step - loss: 2.8570 - val_loss: 3.3791\n",
            "Epoch 31/90\n",
            "186/186 [==============================] - 59s 317ms/step - loss: 2.8461 - val_loss: 3.3781\n",
            "Epoch 32/90\n",
            "186/186 [==============================] - 59s 316ms/step - loss: 2.8359 - val_loss: 3.3724\n",
            "Epoch 33/90\n",
            "186/186 [==============================] - 59s 316ms/step - loss: 2.8262 - val_loss: 3.3703\n",
            "Epoch 34/90\n",
            "186/186 [==============================] - 59s 316ms/step - loss: 2.8156 - val_loss: 3.3913\n",
            "Epoch 35/90\n",
            "186/186 [==============================] - 59s 316ms/step - loss: 2.8051 - val_loss: 3.3932\n",
            "Epoch 36/90\n",
            "186/186 [==============================] - 59s 316ms/step - loss: 2.7948 - val_loss: 3.3672\n",
            "Epoch 37/90\n",
            "186/186 [==============================] - 59s 317ms/step - loss: 2.7846 - val_loss: 3.3754\n",
            "Epoch 38/90\n",
            "186/186 [==============================] - 59s 316ms/step - loss: 2.7764 - val_loss: 3.3733\n",
            "Epoch 39/90\n",
            "186/186 [==============================] - ETA: 0s - loss: 2.7678\n",
            "Epoch 00039: ReduceLROnPlateau reducing learning rate to 0.0004000000189989805.\n",
            "186/186 [==============================] - 59s 317ms/step - loss: 2.7678 - val_loss: 3.3737\n",
            "Epoch 40/90\n",
            "186/186 [==============================] - 59s 316ms/step - loss: 2.6828 - val_loss: 3.3540\n",
            "Epoch 41/90\n",
            "186/186 [==============================] - 59s 316ms/step - loss: 2.6753 - val_loss: 3.3535\n",
            "Epoch 42/90\n",
            "186/186 [==============================] - 59s 316ms/step - loss: 2.6726 - val_loss: 3.3555\n",
            "Epoch 43/90\n",
            "186/186 [==============================] - 59s 316ms/step - loss: 2.6702 - val_loss: 3.3588\n",
            "Epoch 44/90\n",
            "186/186 [==============================] - ETA: 0s - loss: 2.6683\n",
            "Epoch 00044: ReduceLROnPlateau reducing learning rate to 8.000000379979611e-05.\n",
            "186/186 [==============================] - 59s 316ms/step - loss: 2.6683 - val_loss: 3.3587\n",
            "Epoch 45/90\n",
            "186/186 [==============================] - 59s 317ms/step - loss: 2.6499 - val_loss: 3.3571\n",
            "Epoch 46/90\n",
            "186/186 [==============================] - 59s 317ms/step - loss: 2.6489 - val_loss: 3.3580\n",
            "Epoch 47/90\n",
            "186/186 [==============================] - ETA: 0s - loss: 2.6484\n",
            "Epoch 00047: ReduceLROnPlateau reducing learning rate to 1.6000001050997525e-05.\n",
            "186/186 [==============================] - 59s 317ms/step - loss: 2.6484 - val_loss: 3.3584\n",
            "Epoch 48/90\n",
            "186/186 [==============================] - 59s 317ms/step - loss: 2.6444 - val_loss: 3.3586\n",
            "Epoch 49/90\n",
            "186/186 [==============================] - 59s 317ms/step - loss: 2.6442 - val_loss: 3.3586\n",
            "Epoch 50/90\n",
            "186/186 [==============================] - ETA: 0s - loss: 2.6441\n",
            "Epoch 00050: ReduceLROnPlateau reducing learning rate to 3.2000003557186575e-06.\n",
            "186/186 [==============================] - 59s 317ms/step - loss: 2.6441 - val_loss: 3.3588\n",
            "Epoch 51/90\n",
            "186/186 [==============================] - 59s 316ms/step - loss: 2.6433 - val_loss: 3.3588\n",
            "Epoch 52/90\n",
            "186/186 [==============================] - 59s 316ms/step - loss: 2.6432 - val_loss: 3.3588\n",
            "Epoch 53/90\n",
            "186/186 [==============================] - ETA: 0s - loss: 2.6432\n",
            "Epoch 00053: ReduceLROnPlateau reducing learning rate to 6.400000529538374e-07.\n",
            "186/186 [==============================] - 59s 317ms/step - loss: 2.6432 - val_loss: 3.3588\n",
            "Epoch 54/90\n",
            "186/186 [==============================] - 59s 316ms/step - loss: 2.6430 - val_loss: 3.3588\n",
            "Epoch 55/90\n",
            "186/186 [==============================] - 59s 317ms/step - loss: 2.6430 - val_loss: 3.3588\n",
            "Epoch 56/90\n",
            "186/186 [==============================] - ETA: 0s - loss: 2.6430\n",
            "Epoch 00056: ReduceLROnPlateau reducing learning rate to 1.280000105907675e-07.\n",
            "186/186 [==============================] - 59s 317ms/step - loss: 2.6430 - val_loss: 3.3588\n",
            "Epoch 57/90\n",
            "186/186 [==============================] - 59s 317ms/step - loss: 2.6430 - val_loss: 3.3588\n",
            "Epoch 58/90\n",
            "186/186 [==============================] - 59s 317ms/step - loss: 2.6430 - val_loss: 3.3588\n",
            "Epoch 59/90\n",
            "186/186 [==============================] - ETA: 0s - loss: 2.6430\n",
            "Epoch 00059: ReduceLROnPlateau reducing learning rate to 2.5600002118153498e-08.\n",
            "186/186 [==============================] - 59s 317ms/step - loss: 2.6430 - val_loss: 3.3588\n",
            "Epoch 60/90\n",
            "186/186 [==============================] - 59s 316ms/step - loss: 2.6430 - val_loss: 3.3588\n",
            "Epoch 61/90\n",
            "186/186 [==============================] - 59s 317ms/step - loss: 2.6430 - val_loss: 3.3588\n",
            "Epoch 62/90\n",
            "186/186 [==============================] - ETA: 0s - loss: 2.6430\n",
            "Epoch 00062: ReduceLROnPlateau reducing learning rate to 5.1200004236306995e-09.\n",
            "186/186 [==============================] - 59s 317ms/step - loss: 2.6430 - val_loss: 3.3588\n",
            "Epoch 63/90\n",
            "186/186 [==============================] - 59s 316ms/step - loss: 2.6430 - val_loss: 3.3588\n",
            "Epoch 64/90\n",
            "186/186 [==============================] - 59s 318ms/step - loss: 2.6430 - val_loss: 3.3588\n",
            "Epoch 65/90\n",
            "186/186 [==============================] - ETA: 0s - loss: 2.6430\n",
            "Epoch 00065: ReduceLROnPlateau reducing learning rate to 1.02400008472614e-09.\n",
            "186/186 [==============================] - 59s 316ms/step - loss: 2.6430 - val_loss: 3.3588\n",
            "Epoch 66/90\n",
            "186/186 [==============================] - 59s 317ms/step - loss: 2.6430 - val_loss: 3.3588\n",
            "Epoch 67/90\n",
            "186/186 [==============================] - 59s 317ms/step - loss: 2.6430 - val_loss: 3.3588\n",
            "Epoch 68/90\n",
            "186/186 [==============================] - ETA: 0s - loss: 2.6430\n",
            "Epoch 00068: ReduceLROnPlateau reducing learning rate to 2.048000213861201e-10.\n",
            "186/186 [==============================] - 59s 316ms/step - loss: 2.6430 - val_loss: 3.3588\n",
            "Epoch 69/90\n",
            "186/186 [==============================] - 59s 316ms/step - loss: 2.6430 - val_loss: 3.3588\n",
            "Epoch 70/90\n",
            "186/186 [==============================] - 59s 316ms/step - loss: 2.6430 - val_loss: 3.3588\n",
            "Epoch 71/90\n",
            "186/186 [==============================] - ETA: 0s - loss: 2.6430\n",
            "Epoch 00071: ReduceLROnPlateau reducing learning rate to 4.0960004832335533e-11.\n",
            "186/186 [==============================] - 59s 317ms/step - loss: 2.6430 - val_loss: 3.3588\n",
            "Epoch 72/90\n",
            "186/186 [==============================] - 59s 316ms/step - loss: 2.6430 - val_loss: 3.3588\n",
            "Epoch 73/90\n",
            "186/186 [==============================] - 59s 317ms/step - loss: 2.6430 - val_loss: 3.3588\n",
            "Epoch 74/90\n",
            "186/186 [==============================] - ETA: 0s - loss: 2.6430\n",
            "Epoch 00074: ReduceLROnPlateau reducing learning rate to 8.192001244022862e-12.\n",
            "186/186 [==============================] - 59s 317ms/step - loss: 2.6430 - val_loss: 3.3588\n",
            "Epoch 75/90\n",
            "186/186 [==============================] - 59s 317ms/step - loss: 2.6430 - val_loss: 3.3588\n",
            "Epoch 76/90\n",
            "186/186 [==============================] - 59s 317ms/step - loss: 2.6430 - val_loss: 3.3588\n",
            "Epoch 77/90\n",
            "186/186 [==============================] - ETA: 0s - loss: 2.6430\n",
            "Epoch 00077: ReduceLROnPlateau reducing learning rate to 1.6384001794156334e-12.\n",
            "186/186 [==============================] - 59s 317ms/step - loss: 2.6430 - val_loss: 3.3588\n",
            "Epoch 78/90\n",
            "186/186 [==============================] - 59s 317ms/step - loss: 2.6430 - val_loss: 3.3588\n",
            "Epoch 79/90\n",
            "186/186 [==============================] - 59s 317ms/step - loss: 2.6430 - val_loss: 3.3588\n",
            "Epoch 80/90\n",
            "186/186 [==============================] - ETA: 0s - loss: 2.6430\n",
            "Epoch 00080: ReduceLROnPlateau reducing learning rate to 3.276800272095093e-13.\n",
            "186/186 [==============================] - 59s 317ms/step - loss: 2.6430 - val_loss: 3.3588\n",
            "Epoch 81/90\n",
            "186/186 [==============================] - 59s 317ms/step - loss: 2.6430 - val_loss: 3.3588\n",
            "Epoch 82/90\n",
            "186/186 [==============================] - 59s 318ms/step - loss: 2.6430 - val_loss: 3.3588\n",
            "Epoch 83/90\n",
            "186/186 [==============================] - ETA: 0s - loss: 2.6430\n",
            "Epoch 00083: ReduceLROnPlateau reducing learning rate to 6.553600435769969e-14.\n",
            "186/186 [==============================] - 59s 317ms/step - loss: 2.6430 - val_loss: 3.3588\n",
            "Epoch 84/90\n",
            "186/186 [==============================] - 59s 317ms/step - loss: 2.6430 - val_loss: 3.3588\n",
            "Epoch 85/90\n",
            "186/186 [==============================] - 59s 317ms/step - loss: 2.6430 - val_loss: 3.3588\n",
            "Epoch 86/90\n",
            "186/186 [==============================] - ETA: 0s - loss: 2.6430\n",
            "Epoch 00086: ReduceLROnPlateau reducing learning rate to 1.3107200600489395e-14.\n",
            "186/186 [==============================] - 59s 317ms/step - loss: 2.6430 - val_loss: 3.3588\n",
            "Epoch 87/90\n",
            "186/186 [==============================] - 59s 317ms/step - loss: 2.6430 - val_loss: 3.3588\n",
            "Epoch 88/90\n",
            "186/186 [==============================] - 59s 317ms/step - loss: 2.6430 - val_loss: 3.3588\n",
            "Epoch 89/90\n",
            "186/186 [==============================] - ETA: 0s - loss: 2.6430\n",
            "Epoch 00089: ReduceLROnPlateau reducing learning rate to 2.621440086216561e-15.\n",
            "186/186 [==============================] - 59s 318ms/step - loss: 2.6430 - val_loss: 3.3588\n",
            "Epoch 90/90\n",
            "186/186 [==============================] - 59s 317ms/step - loss: 2.6430 - val_loss: 3.3588\n"
          ],
          "name": "stdout"
        }
      ]
    },
    {
      "cell_type": "code",
      "metadata": {
        "colab": {
          "base_uri": "https://localhost:8080/"
        },
        "id": "-HHxE8WSpL6a",
        "outputId": "1cc9ca60-7dde-4227-ad0d-01a5531c6dab"
      },
      "source": [
        "for idx, layer in enumerate(model_1.layers):\n",
        "    print(f'{idx} => {layer.name}')\n"
      ],
      "execution_count": 33,
      "outputs": [
        {
          "output_type": "stream",
          "text": [
            "0 => encoder\n",
            "1 => decoder\n",
            "2 => decoder_dense\n"
          ],
          "name": "stdout"
        }
      ]
    },
    {
      "cell_type": "code",
      "metadata": {
        "id": "g6qY0caWi90r"
      },
      "source": [
        "index_to_word_text, index_to_word_headline  = {}, {}\n",
        "\n",
        "for key, val in preprep_data['text_tokenizer'].word_index.items():\n",
        "    index_to_word_text[val] = key\n",
        "\n",
        "for key, val in preprep_data['headline_tokenizer'].word_index.items():\n",
        "    index_to_word_headline[val] = key\n",
        "    \n",
        "index_to_word_text[0] = '<pad>'\n",
        "index_to_word_headline[0] = '<pad>'\n"
      ],
      "execution_count": 36,
      "outputs": []
    },
    {
      "cell_type": "code",
      "metadata": {
        "colab": {
          "base_uri": "https://localhost:8080/"
        },
        "id": "QLnanfl1i9vD",
        "outputId": "d320f50d-62d3-4e9e-acca-b19977533162"
      },
      "source": [
        "sample_text = preprep_data['text_test'][0]\n",
        "sample_text\n"
      ],
      "execution_count": 37,
      "outputs": [
        {
          "output_type": "execute_result",
          "data": {
            "text/plain": [
              "array([  357,    71,  1541,  3742,  4041,  2650,  7187,  1904,  1150,\n",
              "       11601,  3142,     3,     1,   476,    44,  2696,   101,    28,\n",
              "         707,   176,  5926,  4495,  1275,     6,     1,   786,   104,\n",
              "           4,     1,   786,   144,     6,   162,     1,   240,  1158,\n",
              "          69,  4041,   424,     3,     2,  5352,   163,  1150, 12736,\n",
              "         701,    27,  1052,  4495,     5, 12776,   338,  3142,    27,\n",
              "          11,  2230,   714,     1,   163,  1150,     0,     0,     0],\n",
              "      dtype=int32)"
            ]
          },
          "metadata": {
            "tags": []
          },
          "execution_count": 37
        }
      ]
    },
    {
      "cell_type": "code",
      "metadata": {
        "id": "XO0ejigii9qS"
      },
      "source": [
        "func_text = np.vectorize(lambda x: index_to_word_text[x])\n",
        "func_headline = np.vectorize(lambda x: index_to_word_headline[x])\n"
      ],
      "execution_count": 39,
      "outputs": []
    },
    {
      "cell_type": "code",
      "metadata": {
        "colab": {
          "base_uri": "https://localhost:8080/"
        },
        "id": "QzSSilw2i9ms",
        "outputId": "ee5e90f2-bfbc-4abb-b06f-211fa3923b56"
      },
      "source": [
        "func_text(sample_text)\n"
      ],
      "execution_count": 40,
      "outputs": [
        {
          "output_type": "execute_result",
          "data": {
            "text/plain": [
              "array(['england', 'all', 'rounder', 'ben', 'stokes', 'accidentally',\n",
              "       'punched', 'leg', 'spinner', 'adil', 'rashid', 'in', 'the', 'face',\n",
              "       'while', 'celebrating', 'team', 'india', 'vice', 'captain',\n",
              "       'ajinkya', 'rahane', 'wicket', 'on', 'the', 'fourth', 'day', 'of',\n",
              "       'the', 'fourth', 'test', 'on', 'sunday', 'the', 'incident',\n",
              "       'happened', 'when', 'stokes', 'went', 'in', 'to', 'hug', 'off',\n",
              "       'spinner', 'moeen', 'ali', 'who', 'dismissed', 'rahane', 'and',\n",
              "       'inadvertently', 'hit', 'rashid', 'who', 'was', 'standing',\n",
              "       'behind', 'the', 'off', 'spinner', '<pad>', '<pad>', '<pad>'],\n",
              "      dtype='<U13')"
            ]
          },
          "metadata": {
            "tags": []
          },
          "execution_count": 40
        }
      ]
    },
    {
      "cell_type": "code",
      "metadata": {
        "colab": {
          "base_uri": "https://localhost:8080/"
        },
        "id": "vOFxvVAjvgl-",
        "outputId": "976024b5-d8a2-4bdd-e6fd-7b0ed77cd423"
      },
      "source": [
        "sample_decoder_input = preprep_data['headline_test_input'][0]\n",
        "sample_decoder_input\n"
      ],
      "execution_count": 42,
      "outputs": [
        {
          "output_type": "execute_result",
          "data": {
            "text/plain": [
              "array([   1, 2559, 2123, 5453, 2260,  295, 4241, 1345,    0,    0,    0,\n",
              "          0,    0,    0,    0], dtype=int32)"
            ]
          },
          "metadata": {
            "tags": []
          },
          "execution_count": 42
        }
      ]
    },
    {
      "cell_type": "code",
      "metadata": {
        "colab": {
          "base_uri": "https://localhost:8080/"
        },
        "id": "vcRpA7zMvgcX",
        "outputId": "df66c807-c103-4807-d725-ebad3a9546cd"
      },
      "source": [
        "func_headline(sample_decoder_input)\n"
      ],
      "execution_count": 43,
      "outputs": [
        {
          "output_type": "execute_result",
          "data": {
            "text/plain": [
              "array(['start', 'stokes', 'mistakenly', 'punches', 'rashid', 'while',\n",
              "       'celebrating', 'wicket', '<pad>', '<pad>', '<pad>', '<pad>',\n",
              "       '<pad>', '<pad>', '<pad>'], dtype='<U11')"
            ]
          },
          "metadata": {
            "tags": []
          },
          "execution_count": 43
        }
      ]
    },
    {
      "cell_type": "markdown",
      "metadata": {
        "id": "42zGxxtgv0oW"
      },
      "source": [
        "## Running text to see the predicted summary and actual summary"
      ]
    },
    {
      "cell_type": "code",
      "metadata": {
        "id": "F-ZGTupNvgYv"
      },
      "source": [
        "def summarize(long_text):\n",
        "    long_text = long_text.reshape(1, -1)\n",
        "    out, hidden_state, cell_state = model_1.get_layer('encoder')(long_text)\n",
        "    summary = []\n",
        "    \n",
        "    output = np.array([1]).reshape(1, -1)\n",
        "    while True:\n",
        "        output, hidden_state, cell_state = model_1.get_layer('decoder')(output, hidden_state, cell_state)\n",
        "        output = np.argmax(model_1.get_layer('decoder_dense')(output), axis=-1)\n",
        "        pred = index_to_word_headline[int(output)]\n",
        "    \n",
        "        if pred == '<end>' or len(summary) >= MAX_HEADLINE_SEQ_LEN:\n",
        "            break\n",
        "        \n",
        "        summary.append(pred)\n",
        "\n",
        "    return ' '.join(summary)\n"
      ],
      "execution_count": 44,
      "outputs": []
    },
    {
      "cell_type": "code",
      "metadata": {
        "colab": {
          "base_uri": "https://localhost:8080/"
        },
        "id": "1oD_QMjoxM77",
        "outputId": "37471920-1ada-48c6-a6be-e297956125bb"
      },
      "source": [
        "for idx in range(100, 200, 10):\n",
        "    predicted = summarize(preprep_data['text_test'][idx])\n",
        "    actual = ' '.join([word for word in func_headline(preprep_data['headline_test_output'][idx]) if word not in ['<pad>', '<end>']])\n",
        "\n",
        "    print(f'GENERATED: {predicted}\\n\\nACTUAL: {actual}\\n\\nACTUAL TEXT: {\" \".join([word for word in func_text(preprep_data[\"text_test\"][idx]) if word not in [\"<pad>\", \"<end>\"]])}\\n')\n",
        "    print('='*128)\n"
      ],
      "execution_count": 45,
      "outputs": [
        {
          "output_type": "stream",
          "text": [
            "GENERATED: gayle files defamation suit against fixing charges of team end end end end end end\n",
            "\n",
            "ACTUAL: chris gayle files 1m defamation suit over exposing claims end\n",
            "\n",
            "ACTUAL TEXT: windies all rounder chris gayle has filed 1 million defamation suit against three australian newspapers that have accused him of exposing to masseuse during the 2015 world cup the newspapers claimed gayle intentionally exposed his genitals to woman in the dressing room during training session gayle will provide evidence in the nsw supreme court later this month\n",
            "\n",
            "================================================================================================================================\n",
            "GENERATED: bjp leader who commits suicide after being dies in bihar end end end end end\n",
            "\n",
            "ACTUAL: bihar mp 24 yr old son dies as car hits divider on expressway end\n",
            "\n",
            "ACTUAL TEXT: lok janshakti party ljp mp from bihar veena devi elder son ashutosh singh aged 24 died on saturday after his toyota car hit the divider on greater noida expressway and turned upside down he was rushed to hospital where he was declared dead his father singh is also former mp from bihar\n",
            "\n",
            "================================================================================================================================\n",
            "GENERATED: sidhu seeks ã¢ââ¹1 lakh in haryana amid diplomatic crisis end end end end end end\n",
            "\n",
            "ACTUAL: sidhu pays ã¢ââ¹15l compensation from his own pocket to farmers end\n",
            "\n",
            "ACTUAL TEXT: punjab minister navjot singh sidhu on wednesday paid compensation of ã¢ââ¹15 lakh each to farmers whose crops were damaged in fire that broke out in the fields of few villages in amritsar earlier in april when the crops were damaged sidhu had announced that he would help the farmers as much as possible\n",
            "\n",
            "================================================================================================================================\n",
            "GENERATED: bjp mp asks to give up to give up to students in mp end end\n",
            "\n",
            "ACTUAL: pupils made to vow not to vote bjp till it ends online exams end\n",
            "\n",
            "ACTUAL TEXT: students of shri industrial training institute in madhya pradesh were asked to take pledge not to vote for bjp until the government stopped conducting online exams video showed students saying will encourage at least citizens to take such pledge will spread awareness about the corruption and injustice of bjp in my village\n",
            "\n",
            "================================================================================================================================\n",
            "GENERATED: player to play for world cup for winter olympics end end end end end end\n",
            "\n",
            "ACTUAL: record number of condoms to be given at 2018 winter olympics end\n",
            "\n",
            "ACTUAL TEXT: with 110 000 condoms set to be made available during the event 2018 winter olympics in pyeongchang will set record for the most number of condoms to be handed out at winter olympics with total of 925 athletes set to take part in pyeongchang it to an average of 37 6 condoms per sportsman and sportswoman\n",
            "\n",
            "================================================================================================================================\n",
            "GENERATED: twitter reacts to death after wife kim summit end end end end end end end\n",
            "\n",
            "ACTUAL: childhood find each other after 12 yrs through twitter end\n",
            "\n",
            "ACTUAL TEXT: america brianna cry reunited with her childhood friend heidi tran after 12 years through twitter hey twitter met this girl on dinner cruise in hawaii in 2006 need all to help me find my brianna tweeted and posted picture of them heard you were looking for me brianna friend replied to her within 12 hours\n",
            "\n",
            "================================================================================================================================\n",
            "GENERATED: hizbul chief chief army officer for killing indian soldiers end end end end end end\n",
            "\n",
            "ACTUAL: hizbul blames indian agencies for killing army officer fayaz end\n",
            "\n",
            "ACTUAL TEXT: hizbul mujahideen chief syed salahuddin has blamed the indian agencies for killing indian army officer ummer fayaz who according to him belonged to pro freedom family salahuddin has also denied any hand in the abduction and killing of fayaz on the other hand the jammu and kashmir police has released the pictures of three suspected hizbul militants in fayaz killing\n",
            "\n",
            "================================================================================================================================\n",
            "GENERATED: isro to launch india first time in space in space end end end end end\n",
            "\n",
            "ACTUAL: indian astronaut to be in space for days at under ã¢ââ¹10 000 cr isro end\n",
            "\n",
            "ACTUAL TEXT: isro is planning to put an indian astronaut in space in its first manned mission by 2022 for at least seven days at cost of less than ã¢ââ¹10 000 crore isro chairman sivan said on wednesday isro has already tested the crew module and crew escape systems the iaf will select the astronaut who will be trained overseas\n",
            "\n",
            "================================================================================================================================\n",
            "GENERATED: i don know why he is indians by indians in india end day end end\n",
            "\n",
            "ACTUAL: go hell with what people have to say ravi shastri on critics end\n",
            "\n",
            "ACTUAL TEXT: india coach ravi shastri who was criticised after india lost the test series against england said he doesn have time for what people say about him go hell with what people have to say as long as you re confident of what you re doing he added if you start worrying you start messing up so say ignorance is bliss he further said\n",
            "\n",
            "================================================================================================================================\n",
            "GENERATED: over 100 terrorists to be in saudi arabia arabia end day end end end end\n",
            "\n",
            "ACTUAL: 500 sikh pilgrims to visit kartarpur per day pak draft agreement end\n",
            "\n",
            "ACTUAL TEXT: only 500 sikh pilgrims will be allowed per day through the kartarpur corridor and the pilgrims must constitute group of 15 people according to draft agreement by pakistan the draft agreement leaked to the pakistan media proposes visa free trip for the pilgrims but they will have to carry indian passports and security clearance from india\n",
            "\n",
            "================================================================================================================================\n"
          ],
          "name": "stdout"
        }
      ]
    },
    {
      "cell_type": "code",
      "metadata": {
        "id": "QGUfw8mfxM5n"
      },
      "source": [
        ""
      ],
      "execution_count": null,
      "outputs": []
    },
    {
      "cell_type": "code",
      "metadata": {
        "id": "1VqdfU1bxM1_"
      },
      "source": [
        ""
      ],
      "execution_count": null,
      "outputs": []
    }
  ]
}